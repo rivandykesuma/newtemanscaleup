{
 "cells": [
  {
   "cell_type": "code",
   "execution_count": 3,
   "id": "a3f9eb22-97d7-48a6-acad-92c736ad316e",
   "metadata": {
    "tags": []
   },
   "outputs": [],
   "source": [
    "import glob"
   ]
  },
  {
   "cell_type": "code",
   "execution_count": 7,
   "id": "37fc6c9f-67be-4d4b-8add-cbea56ceba7e",
   "metadata": {
    "tags": []
   },
   "outputs": [
    {
     "data": {
      "text/plain": [
       "['Berkah Cahaya Tangguh.png',\n",
       " 'Adora.png',\n",
       " 'Helwa Beuaty care.png',\n",
       " 'Peace of Akhwat.png',\n",
       " 'Maedahi.png',\n",
       " 'Casade Interior.png',\n",
       " 'esteamewaofficial.png',\n",
       " 'Gulzar_travel.png',\n",
       " 'bitmebite (2).png',\n",
       " 'Yana Taste.png',\n",
       " 'Kambing Palembang.png',\n",
       " 'Workshop Advertising.png',\n",
       " 'Dan.deo (1).png',\n",
       " 'Tahu Logi.png',\n",
       " 'Endul By New Hope.png',\n",
       " 'Dwarna.png',\n",
       " 'Bank Sampah Bina Mandiri Surabaya.png',\n",
       " 'Omah Catering.png',\n",
       " 'cocogeneral.id.png',\n",
       " 'ptsaka.png',\n",
       " 'Stikes RS Anwarmedika.png',\n",
       " 'Shoperior.png',\n",
       " 'Deli Catering Sby.png',\n",
       " 'Sub Jersey.png',\n",
       " 'Syza Simply (1).png',\n",
       " 'elbarokihealth.png',\n",
       " 'Hafizh_Aqiqah.png',\n",
       " 'elbarokijayacatering.png',\n",
       " 'Umroh Ghifany.png',\n",
       " 'Anara.png',\n",
       " 'Sewa BBQ.png',\n",
       " 'Tahu Walik Bu Jaim.png',\n",
       " 'Janji Madu.png',\n",
       " 'Qausa.id.png',\n",
       " 'MM Workshop.png',\n",
       " 'Sagoqu.png',\n",
       " 'Trigger Berkarya.png',\n",
       " 'Azzam MPASI.png',\n",
       " 'Omah_resto.png',\n",
       " 'Sub Academy.png',\n",
       " 'Sarae.png',\n",
       " 'Wahana (1).png',\n",
       " 'lovely.beauty.png',\n",
       " 'Top Max.png',\n",
       " 'Trinixsystems.png',\n",
       " 'Tungku_utinanti.png',\n",
       " 'Jempoly kriuk.png',\n",
       " 'Akun Bareng Store.png',\n",
       " 'Safron.png',\n",
       " 'Genduts Bomboloni.png',\n",
       " 'Esj Property.png',\n",
       " 'Herbalito.png',\n",
       " 'Bimbel Privat.png',\n",
       " 'Cucian Coin Laundry.png',\n",
       " 'Jaket Online.png',\n",
       " 'Sehati_homecare.png',\n",
       " 'Aktaco.id.png',\n",
       " 'Campingin.png',\n",
       " 'Onic Kitchen.png',\n",
       " 'gambang.png',\n",
       " 'Inpack Solution.png',\n",
       " 'Toko Amalya.png',\n",
       " 'Jadahtempe.png',\n",
       " 'Es Teh Prima.png']"
      ]
     },
     "execution_count": 7,
     "metadata": {},
     "output_type": "execute_result"
    }
   ],
   "source": [
    "glob.glob('*.png')"
   ]
  },
  {
   "cell_type": "code",
   "execution_count": null,
   "id": "92613177-43e5-4ba4-be60-cfb2de689aa6",
   "metadata": {},
   "outputs": [],
   "source": []
  }
 ],
 "metadata": {
  "kernelspec": {
   "display_name": "Python 3 (ipykernel)",
   "language": "python",
   "name": "python3"
  },
  "language_info": {
   "codemirror_mode": {
    "name": "ipython",
    "version": 3
   },
   "file_extension": ".py",
   "mimetype": "text/x-python",
   "name": "python",
   "nbconvert_exporter": "python",
   "pygments_lexer": "ipython3",
   "version": "3.11.2"
  }
 },
 "nbformat": 4,
 "nbformat_minor": 5
}
